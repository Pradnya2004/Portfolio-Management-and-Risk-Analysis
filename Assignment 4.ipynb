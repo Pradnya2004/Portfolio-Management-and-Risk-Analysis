{
 "cells": [
  {
   "cell_type": "code",
   "execution_count": 1,
   "id": "f5146002",
   "metadata": {},
   "outputs": [
    {
     "data": {
      "text/plain": [
       "Index(['Brigade enterprises', 'Suzlon', 'Omaxe', 'DLF', 'Infosys', 'HDFC bank',\n",
       "       'HCL tech', 'Welspun india', 'Britannia', 'Asahi india'],\n",
       "      dtype='object')"
      ]
     },
     "execution_count": 1,
     "metadata": {},
     "output_type": "execute_result"
    }
   ],
   "source": [
    "import pandas as pd\n",
    "import numpy as np\n",
    "import risk_kit_pradnya as rk\n",
    "import matplotlib.pyplot as plt\n",
    "import math\n",
    "\n",
    "%load_ext autoreload\n",
    "%autoreload \n",
    "%matplotlib inline\n",
    "\n",
    "\n",
    "ind=pd.read_csv('Stocksportfolio.csv')\n",
    "ind.set_index('Date',inplace=True)\n",
    "er=rk.annualized_returns(ind)\n",
    "cov=ind.cov()\n",
    "\n",
    "ind.columns.str.strip()"
   ]
  },
  {
   "cell_type": "code",
   "execution_count": 44,
   "id": "2d717e11",
   "metadata": {
    "scrolled": true
   },
   "outputs": [
    {
     "data": {
      "text/html": [
       "<div>\n",
       "<style scoped>\n",
       "    .dataframe tbody tr th:only-of-type {\n",
       "        vertical-align: middle;\n",
       "    }\n",
       "\n",
       "    .dataframe tbody tr th {\n",
       "        vertical-align: top;\n",
       "    }\n",
       "\n",
       "    .dataframe thead th {\n",
       "        text-align: right;\n",
       "    }\n",
       "</style>\n",
       "<table border=\"1\" class=\"dataframe\">\n",
       "  <thead>\n",
       "    <tr style=\"text-align: right;\">\n",
       "      <th></th>\n",
       "      <th>Brigade enterprises</th>\n",
       "      <th>Suzlon</th>\n",
       "      <th>Omaxe</th>\n",
       "      <th>DLF</th>\n",
       "      <th>Infosys</th>\n",
       "      <th>HDFC bank</th>\n",
       "      <th>HCL tech</th>\n",
       "      <th>Welspun india</th>\n",
       "      <th>Britannia</th>\n",
       "      <th>Asahi india</th>\n",
       "    </tr>\n",
       "    <tr>\n",
       "      <th>Date</th>\n",
       "      <th></th>\n",
       "      <th></th>\n",
       "      <th></th>\n",
       "      <th></th>\n",
       "      <th></th>\n",
       "      <th></th>\n",
       "      <th></th>\n",
       "      <th></th>\n",
       "      <th></th>\n",
       "      <th></th>\n",
       "    </tr>\n",
       "  </thead>\n",
       "  <tbody>\n",
       "    <tr>\n",
       "      <th>01-08-2007</th>\n",
       "      <td>-0.025543</td>\n",
       "      <td>0.050922</td>\n",
       "      <td>0.025652</td>\n",
       "      <td>0.274226</td>\n",
       "      <td>0.104613</td>\n",
       "      <td>0.157457</td>\n",
       "      <td>0.163713</td>\n",
       "      <td>0.001277</td>\n",
       "      <td>0.043185</td>\n",
       "      <td>-0.027145</td>\n",
       "    </tr>\n",
       "    <tr>\n",
       "      <th>01-09-2007</th>\n",
       "      <td>-0.335633</td>\n",
       "      <td>0.304812</td>\n",
       "      <td>-0.204592</td>\n",
       "      <td>0.242004</td>\n",
       "      <td>-0.200703</td>\n",
       "      <td>-0.061222</td>\n",
       "      <td>-0.165988</td>\n",
       "      <td>-0.067602</td>\n",
       "      <td>-0.062843</td>\n",
       "      <td>-0.085812</td>\n",
       "    </tr>\n",
       "    <tr>\n",
       "      <th>01-10-2007</th>\n",
       "      <td>0.214180</td>\n",
       "      <td>-0.059151</td>\n",
       "      <td>-0.406701</td>\n",
       "      <td>-0.011210</td>\n",
       "      <td>-0.006509</td>\n",
       "      <td>-0.227781</td>\n",
       "      <td>-0.110825</td>\n",
       "      <td>-0.350205</td>\n",
       "      <td>-0.131188</td>\n",
       "      <td>10.062488</td>\n",
       "    </tr>\n",
       "    <tr>\n",
       "      <th>01-11-2007</th>\n",
       "      <td>-0.083802</td>\n",
       "      <td>0.185651</td>\n",
       "      <td>-0.167680</td>\n",
       "      <td>0.146524</td>\n",
       "      <td>-0.104467</td>\n",
       "      <td>-0.128049</td>\n",
       "      <td>-0.204743</td>\n",
       "      <td>-0.242105</td>\n",
       "      <td>-0.055063</td>\n",
       "      <td>-0.057522</td>\n",
       "    </tr>\n",
       "    <tr>\n",
       "      <th>01-12-2007</th>\n",
       "      <td>-0.430933</td>\n",
       "      <td>-0.016319</td>\n",
       "      <td>0.346555</td>\n",
       "      <td>-0.236054</td>\n",
       "      <td>-0.103228</td>\n",
       "      <td>0.247902</td>\n",
       "      <td>-0.161455</td>\n",
       "      <td>0.125000</td>\n",
       "      <td>0.192901</td>\n",
       "      <td>0.035902</td>\n",
       "    </tr>\n",
       "    <tr>\n",
       "      <th>...</th>\n",
       "      <td>...</td>\n",
       "      <td>...</td>\n",
       "      <td>...</td>\n",
       "      <td>...</td>\n",
       "      <td>...</td>\n",
       "      <td>...</td>\n",
       "      <td>...</td>\n",
       "      <td>...</td>\n",
       "      <td>...</td>\n",
       "      <td>...</td>\n",
       "    </tr>\n",
       "    <tr>\n",
       "      <th>01-03-2022</th>\n",
       "      <td>-0.006930</td>\n",
       "      <td>-0.148515</td>\n",
       "      <td>-0.132635</td>\n",
       "      <td>-0.022605</td>\n",
       "      <td>-0.040066</td>\n",
       "      <td>-0.014341</td>\n",
       "      <td>0.007099</td>\n",
       "      <td>-0.042137</td>\n",
       "      <td>-0.031288</td>\n",
       "      <td>0.032273</td>\n",
       "    </tr>\n",
       "    <tr>\n",
       "      <th>01-04-2022</th>\n",
       "      <td>-0.017987</td>\n",
       "      <td>-0.127907</td>\n",
       "      <td>0.073441</td>\n",
       "      <td>-0.070727</td>\n",
       "      <td>-0.122693</td>\n",
       "      <td>0.046948</td>\n",
       "      <td>-0.019489</td>\n",
       "      <td>0.376276</td>\n",
       "      <td>0.053538</td>\n",
       "      <td>-0.007586</td>\n",
       "    </tr>\n",
       "    <tr>\n",
       "      <th>01-05-2022</th>\n",
       "      <td>-0.026624</td>\n",
       "      <td>-0.226667</td>\n",
       "      <td>-0.055295</td>\n",
       "      <td>-0.095066</td>\n",
       "      <td>0.052325</td>\n",
       "      <td>-0.077364</td>\n",
       "      <td>0.076121</td>\n",
       "      <td>0.051941</td>\n",
       "      <td>0.022730</td>\n",
       "      <td>0.202455</td>\n",
       "    </tr>\n",
       "    <tr>\n",
       "      <th>01-06-2022</th>\n",
       "      <td>-0.043599</td>\n",
       "      <td>0.258621</td>\n",
       "      <td>0.002976</td>\n",
       "      <td>0.234250</td>\n",
       "      <td>-0.014640</td>\n",
       "      <td>0.016770</td>\n",
       "      <td>-0.007030</td>\n",
       "      <td>0.046663</td>\n",
       "      <td>-0.000623</td>\n",
       "      <td>-0.056444</td>\n",
       "    </tr>\n",
       "    <tr>\n",
       "      <th>01-07-2022</th>\n",
       "      <td>0.000000</td>\n",
       "      <td>0.000000</td>\n",
       "      <td>0.000000</td>\n",
       "      <td>0.000000</td>\n",
       "      <td>0.000000</td>\n",
       "      <td>0.000000</td>\n",
       "      <td>0.000000</td>\n",
       "      <td>0.000000</td>\n",
       "      <td>0.000000</td>\n",
       "      <td>0.000000</td>\n",
       "    </tr>\n",
       "  </tbody>\n",
       "</table>\n",
       "<p>180 rows × 10 columns</p>\n",
       "</div>"
      ],
      "text/plain": [
       "            Brigade enterprises    Suzlon     Omaxe       DLF   Infosys   \n",
       "Date                                                                      \n",
       "01-08-2007            -0.025543  0.050922  0.025652  0.274226  0.104613  \\\n",
       "01-09-2007            -0.335633  0.304812 -0.204592  0.242004 -0.200703   \n",
       "01-10-2007             0.214180 -0.059151 -0.406701 -0.011210 -0.006509   \n",
       "01-11-2007            -0.083802  0.185651 -0.167680  0.146524 -0.104467   \n",
       "01-12-2007            -0.430933 -0.016319  0.346555 -0.236054 -0.103228   \n",
       "...                         ...       ...       ...       ...       ...   \n",
       "01-03-2022            -0.006930 -0.148515 -0.132635 -0.022605 -0.040066   \n",
       "01-04-2022            -0.017987 -0.127907  0.073441 -0.070727 -0.122693   \n",
       "01-05-2022            -0.026624 -0.226667 -0.055295 -0.095066  0.052325   \n",
       "01-06-2022            -0.043599  0.258621  0.002976  0.234250 -0.014640   \n",
       "01-07-2022             0.000000  0.000000  0.000000  0.000000  0.000000   \n",
       "\n",
       "            HDFC bank  HCL tech  Welspun india  Britannia  Asahi india  \n",
       "Date                                                                    \n",
       "01-08-2007   0.157457  0.163713       0.001277   0.043185    -0.027145  \n",
       "01-09-2007  -0.061222 -0.165988      -0.067602  -0.062843    -0.085812  \n",
       "01-10-2007  -0.227781 -0.110825      -0.350205  -0.131188    10.062488  \n",
       "01-11-2007  -0.128049 -0.204743      -0.242105  -0.055063    -0.057522  \n",
       "01-12-2007   0.247902 -0.161455       0.125000   0.192901     0.035902  \n",
       "...               ...       ...            ...        ...          ...  \n",
       "01-03-2022  -0.014341  0.007099      -0.042137  -0.031288     0.032273  \n",
       "01-04-2022   0.046948 -0.019489       0.376276   0.053538    -0.007586  \n",
       "01-05-2022  -0.077364  0.076121       0.051941   0.022730     0.202455  \n",
       "01-06-2022   0.016770 -0.007030       0.046663  -0.000623    -0.056444  \n",
       "01-07-2022   0.000000  0.000000       0.000000   0.000000     0.000000  \n",
       "\n",
       "[180 rows x 10 columns]"
      ]
     },
     "execution_count": 44,
     "metadata": {},
     "output_type": "execute_result"
    }
   ],
   "source": [
    "ind"
   ]
  },
  {
   "cell_type": "code",
   "execution_count": 45,
   "id": "5499ead2",
   "metadata": {},
   "outputs": [
    {
     "data": {
      "text/plain": [
       "Brigade enterprises    0.067912\n",
       "Suzlon                -0.225992\n",
       "Omaxe                 -0.040942\n",
       "DLF                   -0.028716\n",
       "Infosys                0.133634\n",
       "HDFC bank              0.152217\n",
       "HCL tech               0.231412\n",
       "Welspun india          0.238145\n",
       "Britannia              0.264264\n",
       "Asahi india            0.387598\n",
       "Name: 01-07-2022, dtype: float64"
      ]
     },
     "execution_count": 45,
     "metadata": {},
     "output_type": "execute_result"
    }
   ],
   "source": [
    "er"
   ]
  },
  {
   "cell_type": "code",
   "execution_count": 46,
   "id": "608cf6fd",
   "metadata": {},
   "outputs": [
    {
     "data": {
      "text/plain": [
       "<Axes: >"
      ]
     },
     "execution_count": 46,
     "metadata": {},
     "output_type": "execute_result"
    },
    {
     "data": {
      "image/png": "[encoded data removed]",
      "text/plain": [
       "<Figure size 640x480 with 1 Axes>"
      ]
     },
     "metadata": {},
     "output_type": "display_data"
    }
   ],
   "source": [
    "er.sort_values().plot.bar()"
   ]
  },
  {
   "cell_type": "code",
   "execution_count": 49,
   "id": "7eec1d68",
   "metadata": {},
   "outputs": [
    {
     "data": {
      "text/html": [
       "<div>\n",
       "<style scoped>\n",
       "    .dataframe tbody tr th:only-of-type {\n",
       "        vertical-align: middle;\n",
       "    }\n",
       "\n",
       "    .dataframe tbody tr th {\n",
       "        vertical-align: top;\n",
       "    }\n",
       "\n",
       "    .dataframe thead th {\n",
       "        text-align: right;\n",
       "    }\n",
       "</style>\n",
       "<table border=\"1\" class=\"dataframe\">\n",
       "  <thead>\n",
       "    <tr style=\"text-align: right;\">\n",
       "      <th></th>\n",
       "      <th>Brigade enterprises</th>\n",
       "      <th>Suzlon</th>\n",
       "      <th>Omaxe</th>\n",
       "      <th>DLF</th>\n",
       "      <th>Infosys</th>\n",
       "      <th>HDFC bank</th>\n",
       "      <th>HCL tech</th>\n",
       "      <th>Welspun india</th>\n",
       "      <th>Britannia</th>\n",
       "      <th>Asahi india</th>\n",
       "    </tr>\n",
       "  </thead>\n",
       "  <tbody>\n",
       "    <tr>\n",
       "      <th>Brigade enterprises</th>\n",
       "      <td>0.026875</td>\n",
       "      <td>-0.000102</td>\n",
       "      <td>-0.002447</td>\n",
       "      <td>0.000515</td>\n",
       "      <td>-0.000164</td>\n",
       "      <td>-0.000272</td>\n",
       "      <td>-0.001277</td>\n",
       "      <td>-0.001518</td>\n",
       "      <td>-0.000759</td>\n",
       "      <td>0.009426</td>\n",
       "    </tr>\n",
       "    <tr>\n",
       "      <th>Suzlon</th>\n",
       "      <td>-0.000102</td>\n",
       "      <td>0.041215</td>\n",
       "      <td>-0.000503</td>\n",
       "      <td>0.000701</td>\n",
       "      <td>-0.001493</td>\n",
       "      <td>-0.000964</td>\n",
       "      <td>0.007956</td>\n",
       "      <td>0.001619</td>\n",
       "      <td>0.000484</td>\n",
       "      <td>-0.002233</td>\n",
       "    </tr>\n",
       "    <tr>\n",
       "      <th>Omaxe</th>\n",
       "      <td>-0.002447</td>\n",
       "      <td>-0.000503</td>\n",
       "      <td>0.012680</td>\n",
       "      <td>-0.001530</td>\n",
       "      <td>-0.000287</td>\n",
       "      <td>0.004480</td>\n",
       "      <td>0.001066</td>\n",
       "      <td>0.005752</td>\n",
       "      <td>0.001170</td>\n",
       "      <td>-0.021053</td>\n",
       "    </tr>\n",
       "    <tr>\n",
       "      <th>DLF</th>\n",
       "      <td>0.000515</td>\n",
       "      <td>0.000701</td>\n",
       "      <td>-0.001530</td>\n",
       "      <td>0.026623</td>\n",
       "      <td>-0.000490</td>\n",
       "      <td>0.000748</td>\n",
       "      <td>0.002577</td>\n",
       "      <td>-0.003900</td>\n",
       "      <td>-0.000451</td>\n",
       "      <td>-0.001967</td>\n",
       "    </tr>\n",
       "    <tr>\n",
       "      <th>Infosys</th>\n",
       "      <td>-0.000164</td>\n",
       "      <td>-0.001493</td>\n",
       "      <td>-0.000287</td>\n",
       "      <td>-0.000490</td>\n",
       "      <td>0.006244</td>\n",
       "      <td>0.001241</td>\n",
       "      <td>0.001802</td>\n",
       "      <td>0.002445</td>\n",
       "      <td>0.000965</td>\n",
       "      <td>0.000007</td>\n",
       "    </tr>\n",
       "    <tr>\n",
       "      <th>HDFC bank</th>\n",
       "      <td>-0.000272</td>\n",
       "      <td>-0.000964</td>\n",
       "      <td>0.004480</td>\n",
       "      <td>0.000748</td>\n",
       "      <td>0.001241</td>\n",
       "      <td>0.009005</td>\n",
       "      <td>0.002047</td>\n",
       "      <td>0.005826</td>\n",
       "      <td>0.002315</td>\n",
       "      <td>-0.013164</td>\n",
       "    </tr>\n",
       "    <tr>\n",
       "      <th>HCL tech</th>\n",
       "      <td>-0.001277</td>\n",
       "      <td>0.007956</td>\n",
       "      <td>0.001066</td>\n",
       "      <td>0.002577</td>\n",
       "      <td>0.001802</td>\n",
       "      <td>0.002047</td>\n",
       "      <td>0.042064</td>\n",
       "      <td>-0.000301</td>\n",
       "      <td>0.001467</td>\n",
       "      <td>-0.005805</td>\n",
       "    </tr>\n",
       "    <tr>\n",
       "      <th>Welspun india</th>\n",
       "      <td>-0.001518</td>\n",
       "      <td>0.001619</td>\n",
       "      <td>0.005752</td>\n",
       "      <td>-0.003900</td>\n",
       "      <td>0.002445</td>\n",
       "      <td>0.005826</td>\n",
       "      <td>-0.000301</td>\n",
       "      <td>0.032701</td>\n",
       "      <td>0.001901</td>\n",
       "      <td>-0.019281</td>\n",
       "    </tr>\n",
       "    <tr>\n",
       "      <th>Britannia</th>\n",
       "      <td>-0.000759</td>\n",
       "      <td>0.000484</td>\n",
       "      <td>0.001170</td>\n",
       "      <td>-0.000451</td>\n",
       "      <td>0.000965</td>\n",
       "      <td>0.002315</td>\n",
       "      <td>0.001467</td>\n",
       "      <td>0.001901</td>\n",
       "      <td>0.005400</td>\n",
       "      <td>-0.008218</td>\n",
       "    </tr>\n",
       "    <tr>\n",
       "      <th>Asahi india</th>\n",
       "      <td>0.009426</td>\n",
       "      <td>-0.002233</td>\n",
       "      <td>-0.021053</td>\n",
       "      <td>-0.001967</td>\n",
       "      <td>0.000007</td>\n",
       "      <td>-0.013164</td>\n",
       "      <td>-0.005805</td>\n",
       "      <td>-0.019281</td>\n",
       "      <td>-0.008218</td>\n",
       "      <td>0.573247</td>\n",
       "    </tr>\n",
       "  </tbody>\n",
       "</table>\n",
       "</div>"
      ],
      "text/plain": [
       "                     Brigade enterprises    Suzlon     Omaxe       DLF   \n",
       "Brigade enterprises             0.026875 -0.000102 -0.002447  0.000515  \\\n",
       "Suzlon                         -0.000102  0.041215 -0.000503  0.000701   \n",
       "Omaxe                          -0.002447 -0.000503  0.012680 -0.001530   \n",
       "DLF                             0.000515  0.000701 -0.001530  0.026623   \n",
       "Infosys                        -0.000164 -0.001493 -0.000287 -0.000490   \n",
       "HDFC bank                      -0.000272 -0.000964  0.004480  0.000748   \n",
       "HCL tech                       -0.001277  0.007956  0.001066  0.002577   \n",
       "Welspun india                  -0.001518  0.001619  0.005752 -0.003900   \n",
       "Britannia                      -0.000759  0.000484  0.001170 -0.000451   \n",
       "Asahi india                     0.009426 -0.002233 -0.021053 -0.001967   \n",
       "\n",
       "                      Infosys  HDFC bank  HCL tech  Welspun india  Britannia   \n",
       "Brigade enterprises -0.000164  -0.000272 -0.001277      -0.001518  -0.000759  \\\n",
       "Suzlon              -0.001493  -0.000964  0.007956       0.001619   0.000484   \n",
       "Omaxe               -0.000287   0.004480  0.001066       0.005752   0.001170   \n",
       "DLF                 -0.000490   0.000748  0.002577      -0.003900  -0.000451   \n",
       "Infosys              0.006244   0.001241  0.001802       0.002445   0.000965   \n",
       "HDFC bank            0.001241   0.009005  0.002047       0.005826   0.002315   \n",
       "HCL tech             0.001802   0.002047  0.042064      -0.000301   0.001467   \n",
       "Welspun india        0.002445   0.005826 -0.000301       0.032701   0.001901   \n",
       "Britannia            0.000965   0.002315  0.001467       0.001901   0.005400   \n",
       "Asahi india          0.000007  -0.013164 -0.005805      -0.019281  -0.008218   \n",
       "\n",
       "                     Asahi india  \n",
       "Brigade enterprises     0.009426  \n",
       "Suzlon                 -0.002233  \n",
       "Omaxe                  -0.021053  \n",
       "DLF                    -0.001967  \n",
       "Infosys                 0.000007  \n",
       "HDFC bank              -0.013164  \n",
       "HCL tech               -0.005805  \n",
       "Welspun india          -0.019281  \n",
       "Britannia              -0.008218  \n",
       "Asahi india             0.573247  "
      ]
     },
     "execution_count": 49,
     "metadata": {},
     "output_type": "execute_result"
    }
   ],
   "source": [
    "cov"
   ]
  },
  {
   "cell_type": "code",
   "execution_count": 51,
   "id": "3065b011",
   "metadata": {},
   "outputs": [
    {
     "data": {
      "text/plain": [
       "0.11795313196773423"
      ]
     },
     "execution_count": 51,
     "metadata": {},
     "output_type": "execute_result"
    }
   ],
   "source": [
    "ew = np.repeat(0.1, 10)\n",
    "rk.portfolio_return(ew, er)"
   ]
  },
  {
   "cell_type": "code",
   "execution_count": 68,
   "id": "1432a662",
   "metadata": {},
   "outputs": [
    {
     "data": {
      "text/plain": [
       "<Axes: xlabel='Volatility'>"
      ]
     },
     "execution_count": 68,
     "metadata": {},
     "output_type": "execute_result"
    },
    {
     "data": {
      "image/png": "[encoded data removed]",
      "text/plain": [
       "<Figure size 640x480 with 1 Axes>"
      ]
     },
     "metadata": {},
     "output_type": "display_data"
    }
   ],
   "source": [
    "rk.plot_ef(50, er, cov)"
   ]
  },
  {
   "cell_type": "code",
   "execution_count": 69,
   "id": "dcd9bacc",
   "metadata": {},
   "outputs": [
    {
     "data": {
      "text/plain": [
       "0.007127245757060774"
      ]
     },
     "execution_count": 69,
     "metadata": {},
     "output_type": "execute_result"
    }
   ],
   "source": [
    "rk.portfolio_vol(ew,cov)"
   ]
  },
  {
   "cell_type": "code",
   "execution_count": 73,
   "id": "ab919ab6",
   "metadata": {},
   "outputs": [],
   "source": [
    "r_msr = rk.portfolio_return(weights_msr , er)\n",
    "vol_msr = rk.portfolio_vol(weights_msr , cov)\n",
    "weights_msr =rk. msr(0.03,er,cov)"
   ]
  },
  {
   "cell_type": "code",
   "execution_count": 74,
   "id": "31563c53",
   "metadata": {},
   "outputs": [
    {
     "data": {
      "text/plain": [
       "0.1972598547166537"
      ]
     },
     "execution_count": 74,
     "metadata": {},
     "output_type": "execute_result"
    }
   ],
   "source": [
    "r_msr"
   ]
  },
  {
   "cell_type": "code",
   "execution_count": 75,
   "id": "931a608c",
   "metadata": {},
   "outputs": [
    {
     "data": {
      "text/plain": [
       "0.0024772748668556886"
      ]
     },
     "execution_count": 75,
     "metadata": {},
     "output_type": "execute_result"
    }
   ],
   "source": [
    "vol_msr"
   ]
  },
  {
   "cell_type": "code",
   "execution_count": 76,
   "id": "0e458269",
   "metadata": {},
   "outputs": [
    {
     "data": {
      "text/plain": [
       "array([0.07172346, 0.        , 0.01814332, 0.04492521, 0.21053904,\n",
       "       0.05676723, 0.03737875, 0.04595798, 0.49778123, 0.01678379])"
      ]
     },
     "execution_count": 76,
     "metadata": {},
     "output_type": "execute_result"
    }
   ],
   "source": [
    "weights_msr"
   ]
  },
  {
   "cell_type": "code",
   "execution_count": 77,
   "id": "2a976d5c",
   "metadata": {},
   "outputs": [
    {
     "data": {
      "text/plain": [
       "67.51768120464982"
      ]
     },
     "execution_count": 77,
     "metadata": {},
     "output_type": "execute_result"
    }
   ],
   "source": [
    "sharpe_msr=rk.portfolio_sharpe(r_msr,0.03,vol_msr)\n",
    "sharpe_msr"
   ]
  }
 ],
 "metadata": {
  "kernelspec": {
   "display_name": "Python 3 (ipykernel)",
   "language": "python",
   "name": "python3"
  },
  "language_info": {
   "codemirror_mode": {
    "name": "ipython",
    "version": 3
   },
   "file_extension": ".py",
   "mimetype": "text/x-python",
   "name": "python",
   "nbconvert_exporter": "python",
   "pygments_lexer": "ipython3",
   "version": "3.10.11"
  }
 },
 "nbformat": 4,
 "nbformat_minor": 5
}
