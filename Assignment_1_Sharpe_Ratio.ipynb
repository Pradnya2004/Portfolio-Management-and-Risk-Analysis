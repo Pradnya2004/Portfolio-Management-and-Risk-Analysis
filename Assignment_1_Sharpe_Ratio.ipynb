{
 "cells": [
  {
   "cell_type": "code",
   "execution_count": 1,
   "id": "1be11b9e",
   "metadata": {},
   "outputs": [],
   "source": [
    "#Q1\n",
    "import pandas as pd"
   ]
  },
  {
   "cell_type": "code",
   "execution_count": 2,
   "id": "25cee323",
   "metadata": {},
   "outputs": [],
   "source": [
    "df=pd.read_csv('sample_prices.csv')"
   ]
  },
  {
   "cell_type": "code",
   "execution_count": null,
   "id": "0a9d52c1",
   "metadata": {},
   "outputs": [
    {
     "data": {
      "text/html": [
       "<div>\n",
       "<style scoped>\n",
       "    .dataframe tbody tr th:only-of-type {\n",
       "        vertical-align: middle;\n",
       "    }\n",
       "\n",
       "    .dataframe tbody tr th {\n",
       "        vertical-align: top;\n",
       "    }\n",
       "\n",
       "    .dataframe thead th {\n",
       "        text-align: right;\n",
       "    }\n",
       "</style>\n",
       "<table border=\"1\" class=\"dataframe\">\n",
       "  <thead>\n",
       "    <tr style=\"text-align: right;\">\n",
       "      <th></th>\n",
       "      <th>BLUE</th>\n",
       "      <th>ORANGE</th>\n",
       "      <th>Blue Returns</th>\n",
       "      <th>Orange Returns</th>\n",
       "    </tr>\n",
       "  </thead>\n",
       "  <tbody>\n",
       "    <tr>\n",
       "      <th>0</th>\n",
       "      <td>8.7000</td>\n",
       "      <td>10.6600</td>\n",
       "      <td>0.000000</td>\n",
       "      <td>0.000000</td>\n",
       "    </tr>\n",
       "    <tr>\n",
       "      <th>1</th>\n",
       "      <td>8.9055</td>\n",
       "      <td>11.0828</td>\n",
       "      <td>2.362069</td>\n",
       "      <td>3.966229</td>\n",
       "    </tr>\n",
       "    <tr>\n",
       "      <th>2</th>\n",
       "      <td>8.7113</td>\n",
       "      <td>10.7100</td>\n",
       "      <td>-2.180675</td>\n",
       "      <td>-3.363771</td>\n",
       "    </tr>\n",
       "    <tr>\n",
       "      <th>3</th>\n",
       "      <td>8.4346</td>\n",
       "      <td>11.5907</td>\n",
       "      <td>-3.176334</td>\n",
       "      <td>8.223156</td>\n",
       "    </tr>\n",
       "    <tr>\n",
       "      <th>4</th>\n",
       "      <td>8.7254</td>\n",
       "      <td>12.1070</td>\n",
       "      <td>3.447704</td>\n",
       "      <td>4.454433</td>\n",
       "    </tr>\n",
       "    <tr>\n",
       "      <th>5</th>\n",
       "      <td>9.0551</td>\n",
       "      <td>11.7876</td>\n",
       "      <td>3.778623</td>\n",
       "      <td>-2.638143</td>\n",
       "    </tr>\n",
       "    <tr>\n",
       "      <th>6</th>\n",
       "      <td>8.9514</td>\n",
       "      <td>11.2078</td>\n",
       "      <td>-1.145211</td>\n",
       "      <td>-4.918728</td>\n",
       "    </tr>\n",
       "    <tr>\n",
       "      <th>7</th>\n",
       "      <td>9.2439</td>\n",
       "      <td>12.5192</td>\n",
       "      <td>3.267645</td>\n",
       "      <td>11.700780</td>\n",
       "    </tr>\n",
       "    <tr>\n",
       "      <th>8</th>\n",
       "      <td>9.1276</td>\n",
       "      <td>13.3624</td>\n",
       "      <td>-1.258127</td>\n",
       "      <td>6.735255</td>\n",
       "    </tr>\n",
       "    <tr>\n",
       "      <th>9</th>\n",
       "      <td>9.3976</td>\n",
       "      <td>14.4080</td>\n",
       "      <td>2.958061</td>\n",
       "      <td>7.824942</td>\n",
       "    </tr>\n",
       "    <tr>\n",
       "      <th>10</th>\n",
       "      <td>9.4554</td>\n",
       "      <td>11.9837</td>\n",
       "      <td>0.615051</td>\n",
       "      <td>-16.826069</td>\n",
       "    </tr>\n",
       "    <tr>\n",
       "      <th>11</th>\n",
       "      <td>9.5704</td>\n",
       "      <td>12.2718</td>\n",
       "      <td>1.216236</td>\n",
       "      <td>2.404099</td>\n",
       "    </tr>\n",
       "    <tr>\n",
       "      <th>12</th>\n",
       "      <td>9.7728</td>\n",
       "      <td>11.5892</td>\n",
       "      <td>2.114854</td>\n",
       "      <td>-5.562346</td>\n",
       "    </tr>\n",
       "  </tbody>\n",
       "</table>\n",
       "</div>"
      ],
      "text/plain": [
       "      BLUE   ORANGE  Blue Returns  Orange Returns\n",
       "0   8.7000  10.6600      0.000000        0.000000\n",
       "1   8.9055  11.0828      2.362069        3.966229\n",
       "2   8.7113  10.7100     -2.180675       -3.363771\n",
       "3   8.4346  11.5907     -3.176334        8.223156\n",
       "4   8.7254  12.1070      3.447704        4.454433\n",
       "5   9.0551  11.7876      3.778623       -2.638143\n",
       "6   8.9514  11.2078     -1.145211       -4.918728\n",
       "7   9.2439  12.5192      3.267645       11.700780\n",
       "8   9.1276  13.3624     -1.258127        6.735255\n",
       "9   9.3976  14.4080      2.958061        7.824942\n",
       "10  9.4554  11.9837      0.615051      -16.826069\n",
       "11  9.5704  12.2718      1.216236        2.404099\n",
       "12  9.7728  11.5892      2.114854       -5.562346"
      ]
     },
     "execution_count": 81,
     "metadata": {},
     "output_type": "execute_result"
    }
   ],
   "source": [
    "df['Blue Returns']=0\n",
    "for i in range(12):\n",
    "    df.loc[i+1,\"Blue Returns\"]=(df.loc[i+1,'BLUE']-df.loc[i,'BLUE'])/df.loc[i,'BLUE']*100\n",
    "df['Orange Returns']=0\n",
    "for i in range(12):\n",
    "    df.loc[i+1,\"Orange Returns\"]=(df.loc[i+1,'ORANGE']-df.loc[i,'ORANGE'])/df.loc[i,'ORANGE']*100\n",
    "\n",
    "df"
   ]
  },
  {
   "cell_type": "code",
   "execution_count": 82,
   "id": "7ae31f51",
   "metadata": {},
   "outputs": [
    {
     "name": "stdout",
     "output_type": "stream",
     "text": [
      "Blue Sharpe =\n",
      "-0.8981882764371377\n",
      "Orange Sharpe =\n",
      "-0.2723390795408246\n"
     ]
    }
   ],
   "source": [
    "#Q2\n",
    "\n",
    "std_dev_BLUE=df['Blue Returns'].std()\n",
    "\n",
    "std_dev_ORANGE=df['Orange Returns'].std()\n",
    "#Taking risk free rate=3%\n",
    "\n",
    "Blue_Sharpe=(df['Blue Returns'].mean()-3)/std_dev_BLUE\n",
    "Orange_Sharpe=(df['Orange Returns'].mean()-3)/std_dev_ORANGE\n",
    "\n",
    "\n",
    "print('Blue Sharpe =')\n",
    "print(Blue_Sharpe)\n",
    "print('Orange Sharpe =')\n",
    "print(Orange_Sharpe)\n"
   ]
  },
  {
   "cell_type": "code",
   "execution_count": 86,
   "id": "27875fc9",
   "metadata": {},
   "outputs": [
    {
     "name": "stdout",
     "output_type": "stream",
     "text": [
      "Annual returns of Blue stock are 12.331034482758675 percent\n",
      "Annual returns of Orange stock are 8.71669793621017 percent\n"
     ]
    }
   ],
   "source": [
    "#Q3\n",
    "a1=1\n",
    "for i in df['Blue Returns']:\n",
    "    a1=a1*(1+(i/100))\n",
    "annual_return_rate_BLUE=(a1-1)*100\n",
    "a2=1\n",
    "for i in df['Orange Returns']:\n",
    "    a2=a2*(1+(i/100))\n",
    "annual_return_rate_ORANGE=(a2-1)*100\n",
    "print('Annual returns of Blue stock are',annual_return_rate_BLUE,'percent')\n",
    "print('Annual returns of Orange stock are',annual_return_rate_ORANGE,'percent')\n"
   ]
  }
 ],
 "metadata": {
  "kernelspec": {
   "display_name": "Python 3 (ipykernel)",
   "language": "python",
   "name": "python3"
  },
  "language_info": {
   "codemirror_mode": {
    "name": "ipython",
    "version": 3
   },
   "file_extension": ".py",
   "mimetype": "text/x-python",
   "name": "python",
   "nbconvert_exporter": "python",
   "pygments_lexer": "ipython3",
   "version": "3.10.11"
  }
 },
 "nbformat": 4,
 "nbformat_minor": 5
}
